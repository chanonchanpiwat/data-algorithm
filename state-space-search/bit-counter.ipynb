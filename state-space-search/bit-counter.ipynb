{
 "cells": [
  {
   "cell_type": "code",
   "execution_count": 33,
   "metadata": {},
   "outputs": [],
   "source": [
    "\n",
    "\n",
    "def bit_counter(n):\n",
    "\n",
    "    def inc(x):\n",
    "        i = len(x) - 1\n",
    "        while i >= 0 and x[i] == 1:\n",
    "            x[i] = 0\n",
    "            i -= 1\n",
    "        if i >= 0:\n",
    "            x[i] = 1\n",
    "\n",
    "    x = [0] * n\n",
    "    for i in range(2**n - 1):\n",
    "        print(f' {x}')\n",
    "        inc(x)\n",
    "\n",
    "    return x"
   ]
  },
  {
   "cell_type": "code",
   "execution_count": 34,
   "metadata": {},
   "outputs": [
    {
     "name": "stdout",
     "output_type": "stream",
     "text": [
      " [0, 0, 0, 0]\n",
      " [0, 0, 0, 1]\n",
      " [0, 0, 1, 0]\n",
      " [0, 0, 1, 1]\n",
      " [0, 1, 0, 0]\n",
      " [0, 1, 0, 1]\n",
      " [0, 1, 1, 0]\n",
      " [0, 1, 1, 1]\n",
      " [1, 0, 0, 0]\n",
      " [1, 0, 0, 1]\n",
      " [1, 0, 1, 0]\n",
      " [1, 0, 1, 1]\n",
      " [1, 1, 0, 0]\n",
      " [1, 1, 0, 1]\n",
      " [1, 1, 1, 0]\n"
     ]
    },
    {
     "data": {
      "text/plain": [
       "[1, 1, 1, 1]"
      ]
     },
     "execution_count": 34,
     "metadata": {},
     "output_type": "execute_result"
    }
   ],
   "source": [
    "bit_counter(4)"
   ]
  },
  {
   "cell_type": "code",
   "execution_count": null,
   "metadata": {},
   "outputs": [],
   "source": []
  }
 ],
 "metadata": {
  "kernelspec": {
   "display_name": "Python 3",
   "language": "python",
   "name": "python3"
  },
  "language_info": {
   "codemirror_mode": {
    "name": "ipython",
    "version": 3
   },
   "file_extension": ".py",
   "mimetype": "text/x-python",
   "name": "python",
   "nbconvert_exporter": "python",
   "pygments_lexer": "ipython3",
   "version": "3.9.6"
  },
  "orig_nbformat": 4
 },
 "nbformat": 4,
 "nbformat_minor": 2
}
