{
 "cells": [
  {
   "cell_type": "code",
   "execution_count": 45,
   "metadata": {},
   "outputs": [],
   "source": [
    "def sum_of_set_dfs(d, k):\n",
    "    '''\n",
    "    dfs brute force\n",
    "    space complexity O((b-1) * h) => O(b * h)\n",
    "      b: branch\n",
    "      h: depth\n",
    "    '''\n",
    "    def sum_vector(p,d):\n",
    "        ans = 0\n",
    "        for e1, e2 in zip(p,d):\n",
    "          ans += e1*e2\n",
    "        \n",
    "        return ans\n",
    "\n",
    "    ans = []\n",
    "    s = []\n",
    "    s.append([])\n",
    "    while len(s) != 0:\n",
    "        p = s.pop()\n",
    "        if len(p) == len(d):\n",
    "            print(f'vector: {p}, sum: {sum_vector(p,d)}')\n",
    "            if sum_vector(p, d) == k:\n",
    "              ans.append(p)\n",
    "        else:\n",
    "          left = p[::] + [0]\n",
    "          right = p[::] + [1]\n",
    "          s.append(left)\n",
    "          s.append(right)\n",
    "    return ans"
   ]
  },
  {
   "cell_type": "code",
   "execution_count": 46,
   "metadata": {},
   "outputs": [],
   "source": [
    "def sum_of_set_bfs(d, k):\n",
    "    '''\n",
    "    bfs brute force\n",
    "    space complexity O(b**h)\n",
    "      b: branch\n",
    "      h: depth\n",
    "    '''\n",
    "    def sum_vector(p, d):\n",
    "        ans = 0\n",
    "        for e1, e2 in zip(p, d):\n",
    "            ans += e1*e2\n",
    "\n",
    "        return ans\n",
    "\n",
    "    ans = []\n",
    "    s = []\n",
    "    s.append([])\n",
    "    while len(s) != 0:\n",
    "        p = s.pop(0)\n",
    "        if len(p) == len(d):\n",
    "            print(f'vector: {p}, sum: {sum_vector(p,d)}')\n",
    "            if sum_vector(p, d) == k:\n",
    "                ans.append(p)\n",
    "        else:\n",
    "            left = p[::] + [0]\n",
    "            right = p[::] + [1]\n",
    "            s.append(left)\n",
    "            s.append(right)\n",
    "    return ans"
   ]
  },
  {
   "cell_type": "code",
   "execution_count": 47,
   "metadata": {},
   "outputs": [
    {
     "name": "stdout",
     "output_type": "stream",
     "text": [
      "vector: [1, 1, 1, 1], sum: 10\n",
      "vector: [1, 1, 1, 0], sum: 6\n",
      "vector: [1, 1, 0, 1], sum: 7\n",
      "vector: [1, 1, 0, 0], sum: 3\n",
      "vector: [1, 0, 1, 1], sum: 8\n",
      "vector: [1, 0, 1, 0], sum: 4\n",
      "vector: [1, 0, 0, 1], sum: 5\n",
      "vector: [1, 0, 0, 0], sum: 1\n",
      "vector: [0, 1, 1, 1], sum: 9\n",
      "vector: [0, 1, 1, 0], sum: 5\n",
      "vector: [0, 1, 0, 1], sum: 6\n",
      "vector: [0, 1, 0, 0], sum: 2\n",
      "vector: [0, 0, 1, 1], sum: 7\n",
      "vector: [0, 0, 1, 0], sum: 3\n",
      "vector: [0, 0, 0, 1], sum: 4\n",
      "vector: [0, 0, 0, 0], sum: 0\n"
     ]
    },
    {
     "data": {
      "text/plain": [
       "[[1, 1, 0, 1], [0, 0, 1, 1]]"
      ]
     },
     "execution_count": 47,
     "metadata": {},
     "output_type": "execute_result"
    }
   ],
   "source": [
    "sum_of_set_dfs([1,2,3,4], 7)"
   ]
  },
  {
   "cell_type": "code",
   "execution_count": 48,
   "metadata": {},
   "outputs": [
    {
     "name": "stdout",
     "output_type": "stream",
     "text": [
      "vector: [0, 0, 0, 0], sum: 0\n",
      "vector: [0, 0, 0, 1], sum: 4\n",
      "vector: [0, 0, 1, 0], sum: 3\n",
      "vector: [0, 0, 1, 1], sum: 7\n",
      "vector: [0, 1, 0, 0], sum: 2\n",
      "vector: [0, 1, 0, 1], sum: 6\n",
      "vector: [0, 1, 1, 0], sum: 5\n",
      "vector: [0, 1, 1, 1], sum: 9\n",
      "vector: [1, 0, 0, 0], sum: 1\n",
      "vector: [1, 0, 0, 1], sum: 5\n",
      "vector: [1, 0, 1, 0], sum: 4\n",
      "vector: [1, 0, 1, 1], sum: 8\n",
      "vector: [1, 1, 0, 0], sum: 3\n",
      "vector: [1, 1, 0, 1], sum: 7\n",
      "vector: [1, 1, 1, 0], sum: 6\n",
      "vector: [1, 1, 1, 1], sum: 10\n"
     ]
    },
    {
     "data": {
      "text/plain": [
       "[[0, 0, 1, 1], [1, 1, 0, 1]]"
      ]
     },
     "execution_count": 48,
     "metadata": {},
     "output_type": "execute_result"
    }
   ],
   "source": [
    "sum_of_set_bfs([1,2,3,4], 7)"
   ]
  }
 ],
 "metadata": {
  "kernelspec": {
   "display_name": "Python 3",
   "language": "python",
   "name": "python3"
  },
  "language_info": {
   "codemirror_mode": {
    "name": "ipython",
    "version": 3
   },
   "file_extension": ".py",
   "mimetype": "text/x-python",
   "name": "python",
   "nbconvert_exporter": "python",
   "pygments_lexer": "ipython3",
   "version": "3.9.6"
  },
  "orig_nbformat": 4
 },
 "nbformat": 4,
 "nbformat_minor": 2
}
