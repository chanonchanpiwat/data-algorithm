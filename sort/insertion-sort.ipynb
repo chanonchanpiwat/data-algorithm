{
 "cells": [
  {
   "cell_type": "code",
   "execution_count": 108,
   "metadata": {},
   "outputs": [],
   "source": [
    "def insertion_sort(arr):\n",
    "    for i in range(1, len(arr)):\n",
    "        current = arr[i]\n",
    "        position = i - 1\n",
    "        while position >= 0  and current < arr[position]:\n",
    "            arr[position+1] = arr[position]\n",
    "            position -= 1\n",
    "        arr[position+1] = current\n",
    "    return arr\n",
    "\n"
   ]
  },
  {
   "cell_type": "code",
   "execution_count": 110,
   "metadata": {},
   "outputs": [
    {
     "data": {
      "text/plain": [
       "[1, 1.4, 2, 6]"
      ]
     },
     "execution_count": 110,
     "metadata": {},
     "output_type": "execute_result"
    }
   ],
   "source": [
    "def insertionSort(lst):\n",
    "    for index in range(1, len(lst)):\n",
    "\n",
    "        currentvalue = lst[index]\n",
    "        position = index\n",
    "\n",
    "        while position > 0 and lst[position - 1] > currentvalue:\n",
    "            lst[position] = lst[position - 1]\n",
    "            position = position - 1\n",
    "\n",
    "        lst[position] = currentvalue\n",
    "\n",
    "\n",
    "lst = [1, 2 , 6, 1.4]\n",
    "insertion_sort(lst)"
   ]
  }
 ],
 "metadata": {
  "kernelspec": {
   "display_name": "mxx",
   "language": "python",
   "name": "python3"
  },
  "language_info": {
   "codemirror_mode": {
    "name": "ipython",
    "version": 3
   },
   "file_extension": ".py",
   "mimetype": "text/x-python",
   "name": "python",
   "nbconvert_exporter": "python",
   "pygments_lexer": "ipython3",
   "version": "3.7.10"
  },
  "orig_nbformat": 4
 },
 "nbformat": 4,
 "nbformat_minor": 2
}
