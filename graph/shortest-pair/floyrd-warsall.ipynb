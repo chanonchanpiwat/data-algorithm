{
 "cells": [
  {
   "cell_type": "code",
   "execution_count": 7,
   "metadata": {},
   "outputs": [],
   "source": [
    "graph = [[0, 5, float('inf'), 10],\n",
    "         [float('inf'), 0, 3, float('inf')],\n",
    "         [float('inf'), float('inf'), 0,   1],\n",
    "         [float('inf'), float('inf'), float('inf'), 0]\n",
    "         ]"
   ]
  },
  {
   "cell_type": "code",
   "execution_count": 8,
   "metadata": {},
   "outputs": [],
   "source": [
    "def floyrd_warsall(g):\n",
    "    max_node = len(g)\n",
    "    d = graph\n",
    "    for k in range(max_node):\n",
    "        for j in range(max_node):\n",
    "            for i in range(max_node):\n",
    "                d[i][j] = min(d[i][j], d[i][k] + d[k][j])\n",
    "    return d"
   ]
  },
  {
   "cell_type": "code",
   "execution_count": 9,
   "metadata": {},
   "outputs": [],
   "source": [
    "def floydWarshall(graph):\n",
    "    V = len(graph)\n",
    "    \"\"\" dist[][] will be the output\n",
    "       matrix that will finally\n",
    "        have the shortest distances\n",
    "        between every pair of vertices \"\"\"\n",
    "    \"\"\" initializing the solution matrix\n",
    "    same as input graph matrix\n",
    "    OR we can say that the initial\n",
    "    values of shortest distances\n",
    "    are based on shortest paths considering no\n",
    "    intermediate vertices \"\"\"\n",
    " \n",
    "    dist = list(map(lambda i: list(map(lambda j: j, i)), graph))\n",
    " \n",
    "    \"\"\" Add all vertices one by one\n",
    "    to the set of intermediate\n",
    "     vertices.\n",
    "     ---> Before start of an iteration,\n",
    "     we have shortest distances\n",
    "     between all pairs of vertices\n",
    "     such that the shortest\n",
    "     distances consider only the\n",
    "     vertices in the set\n",
    "    {0, 1, 2, .. k-1} as intermediate vertices.\n",
    "      ----> After the end of a\n",
    "      iteration, vertex no. k is\n",
    "     added to the set of intermediate\n",
    "     vertices and the\n",
    "    set becomes {0, 1, 2, .. k}\n",
    "    \"\"\"\n",
    "    for k in range(V):\n",
    " \n",
    "        # pick all vertices as source one by one\n",
    "        for i in range(V):\n",
    " \n",
    "            # Pick all vertices as destination for the\n",
    "            # above picked source\n",
    "            for j in range(V):\n",
    " \n",
    "                # If vertex k is on the shortest path from\n",
    "                # i to j, then update the value of dist[i][j]\n",
    "                dist[i][j] = min(dist[i][j],\n",
    "                                 dist[i][k] + dist[k][j]\n",
    "                                 )\n",
    "    return dist"
   ]
  },
  {
   "cell_type": "code",
   "execution_count": 10,
   "metadata": {},
   "outputs": [],
   "source": [
    "d1 = floydWarshall(graph)"
   ]
  },
  {
   "cell_type": "code",
   "execution_count": 11,
   "metadata": {},
   "outputs": [],
   "source": [
    "d2 = floyrd_warsall(graph)"
   ]
  },
  {
   "cell_type": "code",
   "execution_count": 13,
   "metadata": {},
   "outputs": [
    {
     "name": "stdout",
     "output_type": "stream",
     "text": [
      "[0, 5, 8, 9] [0, 5, 8, 9]\n",
      "[inf, 0, 3, 4] [inf, 0, 3, 4]\n",
      "[inf, inf, 0, 1] [inf, inf, 0, 1]\n",
      "[inf, inf, inf, 0] [inf, inf, inf, 0]\n"
     ]
    }
   ],
   "source": [
    "for e1, e2 in zip(d1,d2):\n",
    "    print(f'{e1} {e2}')"
   ]
  },
  {
   "cell_type": "code",
   "execution_count": null,
   "metadata": {},
   "outputs": [],
   "source": []
  }
 ],
 "metadata": {
  "kernelspec": {
   "display_name": "Python 3",
   "language": "python",
   "name": "python3"
  },
  "language_info": {
   "codemirror_mode": {
    "name": "ipython",
    "version": 3
   },
   "file_extension": ".py",
   "mimetype": "text/x-python",
   "name": "python",
   "nbconvert_exporter": "python",
   "pygments_lexer": "ipython3",
   "version": "3.9.6"
  },
  "orig_nbformat": 4
 },
 "nbformat": 4,
 "nbformat_minor": 2
}
