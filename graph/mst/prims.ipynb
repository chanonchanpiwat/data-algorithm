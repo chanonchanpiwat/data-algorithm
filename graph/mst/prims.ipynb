{
 "cells": [
  {
   "cell_type": "code",
   "execution_count": 17,
   "metadata": {},
   "outputs": [
    {
     "data": {
      "text/plain": [
       "<Figure size 640x480 with 1 Axes>"
      ]
     },
     "metadata": {},
     "output_type": "display_data"
    }
   ],
   "source": [
    "import matplotlib.pyplot as plt\n",
    "import networkx as nx\n",
    "import numpy as np\n",
    "\n",
    "A = [\n",
    "    [0, 1,  0,  .8, 0],\n",
    "    [0, 0,  .4, 0,  .3],\n",
    "    [0, 0,  0,  0,  0],\n",
    "    [0, 0,  .6, 0,  .7],\n",
    "    [0, 0,  0,  .2, 0]]\n",
    "\n",
    "G = nx.from_numpy_matrix(np.matrix(A), create_using=nx.DiGraph)\n",
    "layout = nx.spring_layout(G)\n",
    "nx.draw(G, layout)\n",
    "nx.draw_networkx_edge_labels(G, pos=layout)\n",
    "plt.show()"
   ]
  },
  {
   "cell_type": "code",
   "execution_count": 21,
   "metadata": {},
   "outputs": [
    {
     "data": {
      "text/plain": [
       "<module 'matplotlib.pyplot' from '/opt/anaconda3/envs/mxx/lib/python3.7/site-packages/matplotlib/pyplot.py'>"
      ]
     },
     "execution_count": 21,
     "metadata": {},
     "output_type": "execute_result"
    }
   ],
   "source": []
  },
  {
   "cell_type": "code",
   "execution_count": 19,
   "metadata": {},
   "outputs": [
    {
     "ename": "SyntaxError",
     "evalue": "invalid syntax (<ipython-input-19-2d44c9483082>, line 1)",
     "output_type": "error",
     "traceback": [
      "\u001b[0;36m  File \u001b[0;32m\"<ipython-input-19-2d44c9483082>\"\u001b[0;36m, line \u001b[0;32m1\u001b[0m\n\u001b[0;31m    def prim_algorithm()\u001b[0m\n\u001b[0m                        ^\u001b[0m\n\u001b[0;31mSyntaxError\u001b[0m\u001b[0;31m:\u001b[0m invalid syntax\n"
     ]
    }
   ],
   "source": [
    "def prim_algorithm()\n"
   ]
  }
 ],
 "metadata": {
  "kernelspec": {
   "display_name": "mxx",
   "language": "python",
   "name": "python3"
  },
  "language_info": {
   "codemirror_mode": {
    "name": "ipython",
    "version": 3
   },
   "file_extension": ".py",
   "mimetype": "text/x-python",
   "name": "python",
   "nbconvert_exporter": "python",
   "pygments_lexer": "ipython3",
   "version": "3.7.10"
  },
  "orig_nbformat": 4
 },
 "nbformat": 4,
 "nbformat_minor": 2
}
