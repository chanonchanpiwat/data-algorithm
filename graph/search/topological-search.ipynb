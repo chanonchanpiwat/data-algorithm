{
 "cells": [
  {
   "cell_type": "code",
   "execution_count": 20,
   "metadata": {},
   "outputs": [],
   "source": [
    "def is_dag(g, s, color=None, head=None):\n",
    "    if head is None:\n",
    "        head = s\n",
    "    if color is None:\n",
    "        color = {}\n",
    "        for i, e in enumerate(g):\n",
    "            color[i] = 'white'\n",
    "    color[s] = 'grey'\n",
    "    for v in g[s]:\n",
    "        print(v, 'm')\n",
    "        if color[v] == 'white':\n",
    "            is_dag(g, v, color, head)\n",
    "        elif color[v] == 'grey':\n",
    "            return False\n",
    "    color[s] = 'black'\n",
    "    print(s)\n",
    "    "
   ]
  },
  {
   "cell_type": "code",
   "execution_count": 21,
   "metadata": {},
   "outputs": [],
   "source": [
    "graph = [[1, 4], [0, 2, 3, 4], [1, 3], [1, 2, 4], [0, 1, 3]]"
   ]
  },
  {
   "cell_type": "code",
   "execution_count": 22,
   "metadata": {},
   "outputs": [
    {
     "data": {
      "text/plain": [
       "'\\n0 - 1 \\n|  /|| / | 2\\n|/  |/\\n4 - 3\\n'"
      ]
     },
     "execution_count": 22,
     "metadata": {},
     "output_type": "execute_result"
    }
   ],
   "source": [
    "'''\n",
    "0 - 1 \n",
    "|  /|\\\n",
    "| / | 2\n",
    "|/  |/\n",
    "4 - 3\n",
    "'''"
   ]
  },
  {
   "cell_type": "code",
   "execution_count": 23,
   "metadata": {},
   "outputs": [
    {
     "name": "stdout",
     "output_type": "stream",
     "text": [
      "1 m\n",
      "0 m\n",
      "4 m\n",
      "0 m\n",
      "0\n"
     ]
    }
   ],
   "source": [
    "is_dag(graph, 0)"
   ]
  }
 ],
 "metadata": {
  "kernelspec": {
   "display_name": "mxx",
   "language": "python",
   "name": "python3"
  },
  "language_info": {
   "codemirror_mode": {
    "name": "ipython",
    "version": 3
   },
   "file_extension": ".py",
   "mimetype": "text/x-python",
   "name": "python",
   "nbconvert_exporter": "python",
   "pygments_lexer": "ipython3",
   "version": "3.7.10"
  },
  "orig_nbformat": 4
 },
 "nbformat": 4,
 "nbformat_minor": 2
}
