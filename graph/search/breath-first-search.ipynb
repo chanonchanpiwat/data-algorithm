{
 "cells": [
  {
   "cell_type": "code",
   "execution_count": 19,
   "metadata": {},
   "outputs": [],
   "source": [
    "import queue"
   ]
  },
  {
   "cell_type": "code",
   "execution_count": 20,
   "metadata": {},
   "outputs": [],
   "source": [
    "graph = [[1, 4], [0, 2, 3, 4], [1, 3], [1, 2, 4], [0, 1, 3]]"
   ]
  },
  {
   "cell_type": "code",
   "execution_count": 21,
   "metadata": {},
   "outputs": [],
   "source": [
    "def bfs(g, s):\n",
    "    color = {}\n",
    "    for i,e in enumerate(g):\n",
    "        color[i] = 'white'\n",
    "    color[s] = 'grey'\n",
    "    q = queue.Queue()\n",
    "    q.put(s)\n",
    "    while not q.empty():\n",
    "        c = q.get()\n",
    "        color[c] = 'black'\n",
    "        for e in g[c]:\n",
    "            if color[e] == 'white':\n",
    "                q.put(e)\n",
    "                color[e] = 'grey'\n",
    "    return"
   ]
  },
  {
   "cell_type": "code",
   "execution_count": 22,
   "metadata": {},
   "outputs": [],
   "source": [
    "def bfs_path(g, s):\n",
    "    distance = {}\n",
    "    parent = {}\n",
    "    for i,e in enumerate(g):\n",
    "        distance[i] = None\n",
    "        parent[i] = None\n",
    "    distance[s] = 0\n",
    "    q = queue.Queue()\n",
    "    q.put(s)\n",
    "    while not q.empty():\n",
    "        c = q.get()\n",
    "        for e in g[c]:\n",
    "            if distance[e] == None:\n",
    "                parent[e] = c\n",
    "                distance[e] = distance[c] + 1\n",
    "                q.put(e)\n",
    "    return distance, parent"
   ]
  },
  {
   "cell_type": "code",
   "execution_count": 23,
   "metadata": {},
   "outputs": [
    {
     "data": {
      "text/plain": [
       "({0: 0, 1: 1, 2: 2, 3: 2, 4: 1}, {0: None, 1: 0, 2: 1, 3: 1, 4: 0})"
      ]
     },
     "execution_count": 23,
     "metadata": {},
     "output_type": "execute_result"
    }
   ],
   "source": [
    "bfs_path(graph, 0)"
   ]
  },
  {
   "cell_type": "code",
   "execution_count": null,
   "metadata": {},
   "outputs": [],
   "source": []
  }
 ],
 "metadata": {
  "kernelspec": {
   "display_name": "mxx",
   "language": "python",
   "name": "python3"
  },
  "language_info": {
   "codemirror_mode": {
    "name": "ipython",
    "version": 3
   },
   "file_extension": ".py",
   "mimetype": "text/x-python",
   "name": "python",
   "nbconvert_exporter": "python",
   "pygments_lexer": "ipython3",
   "version": "3.7.10"
  },
  "orig_nbformat": 4
 },
 "nbformat": 4,
 "nbformat_minor": 2
}
