{
 "cells": [
  {
   "cell_type": "code",
   "execution_count": 18,
   "metadata": {},
   "outputs": [],
   "source": [
    "# node n v distance\n",
    "graph = [(0, 1, -1),\n",
    "         (0, 2, 4),\n",
    "         (1, 2, 3),\n",
    "         (1, 3, 2),\n",
    "         (1, 4, 2),\n",
    "         (3, 2, 5),\n",
    "         (3, 1, 1),\n",
    "         (4, 3, -3),]"
   ]
  },
  {
   "cell_type": "code",
   "execution_count": 19,
   "metadata": {},
   "outputs": [],
   "source": [
    "def bellman_ford(graph, v):\n",
    "    d = {}\n",
    "    p = {}\n",
    "    for i in range(v):\n",
    "      d[i] = float('inf')\n",
    "      p[i] = None\n",
    "\n",
    "    d[0] = 0\n",
    "    p[0] = 'root'\n",
    "\n",
    "    for _ in range(v-1):\n",
    "       for (n, v, w) in graph:\n",
    "          if d[n] != float('inf') and d[n] + w < d[v]:\n",
    "             d[v] = d[n] + w\n",
    "             p[v] = n\n",
    "\n",
    "    return d"
   ]
  },
  {
   "cell_type": "code",
   "execution_count": 20,
   "metadata": {},
   "outputs": [],
   "source": [
    "d = bellman_ford(graph, 5)"
   ]
  },
  {
   "cell_type": "code",
   "execution_count": 21,
   "metadata": {},
   "outputs": [
    {
     "name": "stdout",
     "output_type": "stream",
     "text": [
      "vertex: 0, distance: 0\n",
      "vertex: 1, distance: 1\n",
      "vertex: 2, distance: 2\n",
      "vertex: 3, distance: 3\n",
      "vertex: 4, distance: 4\n"
     ]
    }
   ],
   "source": [
    "for i, e in enumerate(d.items()):\n",
    "    print(f'vertex: {i}, distance: {e}')"
   ]
  },
  {
   "cell_type": "code",
   "execution_count": null,
   "metadata": {},
   "outputs": [],
   "source": [
    "''' \n",
    "Vertex   Distance from Source\n",
    "0          0\n",
    "1          -1\n",
    "2          2\n",
    "3          -2\n",
    "4          1\n",
    "'''"
   ]
  }
 ],
 "metadata": {
  "kernelspec": {
   "display_name": "Python 3",
   "language": "python",
   "name": "python3"
  },
  "language_info": {
   "codemirror_mode": {
    "name": "ipython",
    "version": 3
   },
   "file_extension": ".py",
   "mimetype": "text/x-python",
   "name": "python",
   "nbconvert_exporter": "python",
   "pygments_lexer": "ipython3",
   "version": "3.9.6"
  },
  "orig_nbformat": 4
 },
 "nbformat": 4,
 "nbformat_minor": 2
}
