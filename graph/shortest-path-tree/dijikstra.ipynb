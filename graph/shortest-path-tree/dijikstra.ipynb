{
 "cells": [
  {
   "cell_type": "code",
   "execution_count": 32,
   "metadata": {},
   "outputs": [],
   "source": [
    "from HeapDict import HeapDict\n",
    "import math"
   ]
  },
  {
   "cell_type": "code",
   "execution_count": 33,
   "metadata": {},
   "outputs": [],
   "source": [
    "graph = [[0, 4, 0, 0, 0, 0, 0, 8, 0],\n",
    "               [4, 0, 8, 0, 0, 0, 0, 11, 0],\n",
    "               [0, 8, 0, 7, 0, 4, 0, 0, 2],\n",
    "               [0, 0, 7, 0, 9, 14, 0, 0, 0],\n",
    "               [0, 0, 0, 9, 0, 10, 0, 0, 0],\n",
    "               [0, 0, 4, 14, 10, 0, 2, 0, 0],\n",
    "               [0, 0, 0, 0, 0, 2, 0, 1, 6],\n",
    "               [8, 11, 0, 0, 0, 0, 1, 0, 7],\n",
    "               [0, 0, 2, 0, 0, 0, 6, 7, 0]\n",
    "               ]"
   ]
  },
  {
   "cell_type": "code",
   "execution_count": 34,
   "metadata": {},
   "outputs": [],
   "source": [
    "def dijkstra(g, initial_node):\n",
    "  d = {}\n",
    "  p = {}\n",
    "  max_node = len(g)\n",
    "  for i in range(max_node):\n",
    "    d[i] = math.inf\n",
    "\n",
    "  d[initial_node] = 0\n",
    "  p[initial_node] = 'root'\n",
    "\n",
    "  heap =  HeapDict(d)\n",
    "  while len(heap.data) != 0:\n",
    "    node, dis = heap.pop()\n",
    "    adj_node = g[node]\n",
    "    for i, e in enumerate(adj_node):\n",
    "        if e != 0 and d[node] + e < d[i]:\n",
    "          d[i] = d[node] + e\n",
    "          p[i] = node\n",
    "          heap.update(i, d[i])\n",
    "  \n",
    "  return d\n",
    "   \n"
   ]
  },
  {
   "cell_type": "code",
   "execution_count": 35,
   "metadata": {},
   "outputs": [],
   "source": [
    "distance = dijkstra(graph, 0)\n"
   ]
  },
  {
   "cell_type": "code",
   "execution_count": 36,
   "metadata": {},
   "outputs": [
    {
     "name": "stdout",
     "output_type": "stream",
     "text": [
      "vertex: 0, distance: 0\n",
      "vertex: 1, distance: 4\n",
      "vertex: 2, distance: 12\n",
      "vertex: 3, distance: 19\n",
      "vertex: 4, distance: 21\n",
      "vertex: 5, distance: 11\n",
      "vertex: 6, distance: 9\n",
      "vertex: 7, distance: 8\n",
      "vertex: 8, distance: 14\n"
     ]
    }
   ],
   "source": [
    "for i, e in distance.items():\n",
    "    print(f'vertex: {i}, distance: {e}')"
   ]
  },
  {
   "cell_type": "code",
   "execution_count": 37,
   "metadata": {},
   "outputs": [
    {
     "data": {
      "text/plain": [
       "' \\nVertex          Distance from Source\\n0                  0\\n1                  4\\n2                  12\\n3                  19\\n4                  21\\n5                  11\\n6                  9\\n7                  8\\n8                  14\\n'"
      ]
     },
     "execution_count": 37,
     "metadata": {},
     "output_type": "execute_result"
    }
   ],
   "source": [
    "''' \n",
    "solution\n",
    "Vertex          Distance from Source\n",
    "0                  0\n",
    "1                  4\n",
    "2                  12\n",
    "3                  19\n",
    "4                  21\n",
    "5                  11\n",
    "6                  9\n",
    "7                  8\n",
    "8                  14\n",
    "'''"
   ]
  }
 ],
 "metadata": {
  "kernelspec": {
   "display_name": "Python 3",
   "language": "python",
   "name": "python3"
  },
  "language_info": {
   "codemirror_mode": {
    "name": "ipython",
    "version": 3
   },
   "file_extension": ".py",
   "mimetype": "text/x-python",
   "name": "python",
   "nbconvert_exporter": "python",
   "pygments_lexer": "ipython3",
   "version": "3.9.6"
  },
  "orig_nbformat": 4
 },
 "nbformat": 4,
 "nbformat_minor": 2
}
