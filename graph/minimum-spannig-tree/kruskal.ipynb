{
 "cells": [
  {
   "cell_type": "code",
   "execution_count": 36,
   "metadata": {},
   "outputs": [
    {
     "data": {
      "text/plain": [
       "'\\nminimum spanning trees\\n\\ninput: graph [undirected]\\n\\noutput: minimum spanning tree\\n\\napplication: optimize network routing to all city while maintain least cost\\n'"
      ]
     },
     "execution_count": 36,
     "metadata": {},
     "output_type": "execute_result"
    }
   ],
   "source": [
    "'''\n",
    "minimum spanning trees\n",
    "\n",
    "input: graph [undirected]\n",
    "\n",
    "output: minimum spanning tree\n",
    "\n",
    "application: optimize network routing to all city while maintain least cost\n",
    "'''"
   ]
  },
  {
   "cell_type": "code",
   "execution_count": 37,
   "metadata": {},
   "outputs": [],
   "source": [
    "''' Let us create the following graph\n",
    "        2 3\n",
    "    (0)--(1)--(2)\n",
    "    | / \\ |\n",
    "    6| 8/ \\5 |7\n",
    "    | /     \\ |\n",
    "    (3)-------(4)\n",
    "            9         '''\n",
    "cost = [[0, 2, 0, 6, 0],\n",
    "        [2, 0, 3, 8, 5],\n",
    "        [0, 3, 0, 0, 7],\n",
    "        [6, 8, 0, 0, 9],\n",
    "        [0, 5, 7, 9, 0]]\n",
    "'ans min = 16'\n",
    "\n",
    "cost = {2:(0,1), 6:(0,3), 3:(1,2), 8:(1,3), 5:(1,4), 7:(2,4), 8:(3,1), 9:(3,4), 5:(4,2)}"
   ]
  },
  {
   "cell_type": "code",
   "execution_count": 38,
   "metadata": {},
   "outputs": [],
   "source": [
    "# TO DO: optimize implementation later\n",
    "import heapq\n",
    "\n",
    "class HeapDict:\n",
    "    def __init__(self, d) -> None:\n",
    "        l = [(k,v) for k,v in d.items()]\n",
    "        heapq.heapify(l)\n",
    "        self.data = l\n",
    "    def pop(self):\n",
    "        node = heapq.heappop(self.data)\n",
    "        return node\n",
    "    def __repr__(self) -> str:\n",
    "        return f'{self.data}'"
   ]
  },
  {
   "cell_type": "code",
   "execution_count": 39,
   "metadata": {},
   "outputs": [],
   "source": [
    "class Forest:\n",
    "    def __init__(self, arr) -> None:\n",
    "        self.data = [set([e]) for e in arr]\n",
    "    def isSameTree(self, a, b):\n",
    "        for tree in self.data:\n",
    "            if a in tree and b in tree:\n",
    "                return True\n",
    "            elif a in tree and b not in tree:\n",
    "                return False\n",
    "            elif a not in tree and b in tree:\n",
    "                return False\n",
    "        return None\n",
    "    def merge(self, a, b):\n",
    "        l = []\n",
    "        merge = set()\n",
    "        for tree in self.data:\n",
    "            if a in tree:\n",
    "               merge = merge.union(tree)\n",
    "            elif b in tree:\n",
    "               merge = merge.union(tree)\n",
    "            else:\n",
    "                l.append(tree)\n",
    "        l.append(merge)\n",
    "        self.data = l\n",
    "    def __repr__(self) -> str:\n",
    "        return f'{self.data}'\n"
   ]
  },
  {
   "cell_type": "code",
   "execution_count": 41,
   "metadata": {},
   "outputs": [
    {
     "data": {
      "text/plain": [
       "[(3, (1, 2)), (5, (4, 2)), (7, (2, 4)), (8, (3, 1)), (6, (0, 3)), (9, (3, 4))]"
      ]
     },
     "execution_count": 41,
     "metadata": {},
     "output_type": "execute_result"
    }
   ],
   "source": [
    "h = HeapDict(cost)\n",
    "h.pop()\n",
    "h\n"
   ]
  },
  {
   "cell_type": "code",
   "execution_count": 43,
   "metadata": {},
   "outputs": [],
   "source": [
    "def krsuskal(g, max_node):\n",
    "    heap = HeapDict(g)\n",
    "    forest = Forest([i for i in range(max_node)])\n",
    "    tree = []\n",
    "    while len(tree) <= 3:\n",
    "        (d, (n1, n2)) = heap.pop()\n",
    "        if not forest.isSameTree(n1,n2):\n",
    "           forest.merge(n1,n2)\n",
    "           tree.append(d)\n",
    "    return sum(tree)"
   ]
  },
  {
   "cell_type": "code",
   "execution_count": 44,
   "metadata": {},
   "outputs": [
    {
     "data": {
      "text/plain": [
       "16"
      ]
     },
     "execution_count": 44,
     "metadata": {},
     "output_type": "execute_result"
    }
   ],
   "source": [
    "krsuskal(cost, 4)"
   ]
  }
 ],
 "metadata": {
  "kernelspec": {
   "display_name": "Python 3",
   "language": "python",
   "name": "python3"
  },
  "language_info": {
   "codemirror_mode": {
    "name": "ipython",
    "version": 3
   },
   "file_extension": ".py",
   "mimetype": "text/x-python",
   "name": "python",
   "nbconvert_exporter": "python",
   "pygments_lexer": "ipython3",
   "version": "3.9.6"
  },
  "orig_nbformat": 4
 },
 "nbformat": 4,
 "nbformat_minor": 2
}
