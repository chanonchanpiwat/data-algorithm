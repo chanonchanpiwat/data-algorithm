{
 "cells": [
  {
   "cell_type": "code",
   "execution_count": 64,
   "metadata": {},
   "outputs": [
    {
     "data": {
      "text/plain": [
       "'\\nminimum spanning trees\\n\\ninput: graph [undirected]\\n\\noutput: minimum spanning tree\\n\\napplication: optimize network routing to all city while maintain least cost\\n'"
      ]
     },
     "execution_count": 64,
     "metadata": {},
     "output_type": "execute_result"
    }
   ],
   "source": [
    "'''\n",
    "minimum spanning trees\n",
    "\n",
    "input: graph [undirected]\n",
    "\n",
    "output: minimum spanning tree\n",
    "\n",
    "application: optimize network routing to all city while maintain least cost\n",
    "'''"
   ]
  },
  {
   "cell_type": "code",
   "execution_count": 65,
   "metadata": {},
   "outputs": [
    {
     "data": {
      "text/plain": [
       "'ans min = 16'"
      ]
     },
     "execution_count": 65,
     "metadata": {},
     "output_type": "execute_result"
    }
   ],
   "source": [
    "''' Let us create the following graph\n",
    "        2 3\n",
    "    (0)--(1)--(2)\n",
    "    | / \\ |\n",
    "    6| 8/ \\5 |7\n",
    "    | /     \\ |\n",
    "    (3)-------(4)\n",
    "            9         '''\n",
    "cost = [[0, 2, 0, 6, 0],\n",
    "        [2, 0, 3, 8, 5],\n",
    "        [0, 3, 0, 0, 7],\n",
    "        [6, 8, 0, 0, 9],\n",
    "        [0, 5, 7, 9, 0]]\n",
    "'ans min = 16'"
   ]
  },
  {
   "cell_type": "code",
   "execution_count": 66,
   "metadata": {},
   "outputs": [],
   "source": [
    "import math\n",
    "import heapq\n",
    "\n",
    "def prim(m):\n",
    "    cost = 0\n",
    "    max_node = len(m)\n",
    "    d = [math.inf] * max_node\n",
    "    p = [None] * max_node\n",
    "    isMST = [False] * max_node\n",
    "\n",
    "    \n",
    "    d[0] = 0\n",
    "    p[0] = 'root'\n",
    "    heapq.heapify(d)\n",
    "    print(d)\n",
    "    while len(d) != 0:\n",
    "\n",
    "        n = heapq.heappop(d)\n",
    "        adj_nodes = m[n]\n",
    "        print(d)\n",
    "        for ni,w in enumerate(adj_nodes):\n",
    "            print(ni,w, d[ni])\n",
    "            if not isMST[ni] and w < d[ni]:\n",
    "                d[ni] = w\n",
    "                p[ni] = n\n",
    "\n",
    "        isMST[n] = True\n",
    "        cost += d[n]\n",
    "    \n",
    "    return cost"
   ]
  },
  {
   "cell_type": "code",
   "execution_count": 67,
   "metadata": {},
   "outputs": [
    {
     "name": "stdout",
     "output_type": "stream",
     "text": [
      "[0, inf, inf, inf, inf]\n",
      "[inf, inf, inf, inf]\n",
      "0 0 inf\n",
      "1 2 inf\n",
      "2 0 inf\n",
      "3 6 inf\n"
     ]
    },
    {
     "ename": "IndexError",
     "evalue": "list index out of range",
     "output_type": "error",
     "traceback": [
      "\u001b[0;31m---------------------------------------------------------------------------\u001b[0m",
      "\u001b[0;31mIndexError\u001b[0m                                Traceback (most recent call last)",
      "Cell \u001b[0;32mIn[67], line 3\u001b[0m\n\u001b[1;32m      1\u001b[0m x \u001b[39m=\u001b[39m [\u001b[39mFalse\u001b[39;00m, \u001b[39mFalse\u001b[39;00m, \u001b[39mFalse\u001b[39;00m, \u001b[39mFalse\u001b[39;00m, \u001b[39mFalse\u001b[39;00m]\n\u001b[1;32m      2\u001b[0m x[\u001b[39m4\u001b[39m]\n\u001b[0;32m----> 3\u001b[0m prim(cost)\n",
      "Cell \u001b[0;32mIn[66], line 22\u001b[0m, in \u001b[0;36mprim\u001b[0;34m(m)\u001b[0m\n\u001b[1;32m     20\u001b[0m \u001b[39mprint\u001b[39m(d)\n\u001b[1;32m     21\u001b[0m \u001b[39mfor\u001b[39;00m ni,w \u001b[39min\u001b[39;00m \u001b[39menumerate\u001b[39m(adj_nodes):\n\u001b[0;32m---> 22\u001b[0m     \u001b[39mprint\u001b[39m(ni,w, d[ni])\n\u001b[1;32m     23\u001b[0m     \u001b[39mif\u001b[39;00m \u001b[39mnot\u001b[39;00m isMST[ni] \u001b[39mand\u001b[39;00m w \u001b[39m<\u001b[39m d[ni]:\n\u001b[1;32m     24\u001b[0m         d[ni] \u001b[39m=\u001b[39m w\n",
      "\u001b[0;31mIndexError\u001b[0m: list index out of range"
     ]
    }
   ],
   "source": [
    "x = [False, False, False, False, False]\n",
    "x[4]\n",
    "prim(cost)\n"
   ]
  }
 ],
 "metadata": {
  "kernelspec": {
   "display_name": "Python 3 (ipykernel)",
   "language": "python",
   "name": "python3"
  },
  "language_info": {
   "codemirror_mode": {
    "name": "ipython",
    "version": 3
   },
   "file_extension": ".py",
   "mimetype": "text/x-python",
   "name": "python",
   "nbconvert_exporter": "python",
   "pygments_lexer": "ipython3",
   "version": "3.9.6"
  }
 },
 "nbformat": 4,
 "nbformat_minor": 4
}
