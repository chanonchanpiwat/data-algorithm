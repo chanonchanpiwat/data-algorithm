{
 "cells": [
  {
   "cell_type": "code",
   "execution_count": 18,
   "metadata": {},
   "outputs": [
    {
     "data": {
      "text/plain": [
       "'\\nminimum spanning trees\\n\\ninput: graph [undirected]\\n\\noutput: minimum spanning tree\\n\\napplication: optimize network routing to all city while maintain least cost\\n'"
      ]
     },
     "execution_count": 18,
     "metadata": {},
     "output_type": "execute_result"
    }
   ],
   "source": [
    "'''\n",
    "minimum spanning trees\n",
    "\n",
    "input: graph [undirected]\n",
    "\n",
    "output: minimum spanning tree\n",
    "\n",
    "application: optimize network routing to all city while maintain least cost\n",
    "'''"
   ]
  },
  {
   "cell_type": "code",
   "execution_count": 19,
   "metadata": {},
   "outputs": [
    {
     "data": {
      "text/plain": [
       "'ans min = 16'"
      ]
     },
     "execution_count": 19,
     "metadata": {},
     "output_type": "execute_result"
    }
   ],
   "source": [
    "''' Let us create the following graph\n",
    "        2 3\n",
    "    (0)--(1)--(2)\n",
    "    | / \\ |\n",
    "    6| 8/ \\5 |7\n",
    "    | /     \\ |\n",
    "    (3)-------(4)\n",
    "            9         '''\n",
    "cost = [[0, 2, 0, 6, 0],\n",
    "        [2, 0, 3, 8, 5],\n",
    "        [0, 3, 0, 0, 7],\n",
    "        [6, 8, 0, 0, 9],\n",
    "        [0, 5, 7, 9, 0]]\n",
    "'ans min = 16'"
   ]
  },
  {
   "cell_type": "code",
   "execution_count": 20,
   "metadata": {},
   "outputs": [],
   "source": [
    "import math\n",
    "import heapq\n",
    "from HeapDict import HeapDict"
   ]
  },
  {
   "cell_type": "code",
   "execution_count": 21,
   "metadata": {},
   "outputs": [],
   "source": [
    "def prim(m):\n",
    "    cost = 0\n",
    "    max_node = len(m)\n",
    "    d = {}\n",
    "    for i in range(max_node):\n",
    "        d[i] = math.inf\n",
    "    p = [None] * max_node\n",
    "    isMST = [False] * max_node\n",
    "\n",
    "    \n",
    "    d[0] = 0\n",
    "    p[0] = 'root'\n",
    "    q =  HeapDict(d)\n",
    "    while len(q.data) != 0:\n",
    "        (n,_) = q.pop()\n",
    "        adj_nodes = m[n]\n",
    "        for ni,w in enumerate(adj_nodes):\n",
    "            if not isMST[ni] and w > 0 and w < d[ni]:\n",
    "                q.update(ni, w)\n",
    "                d[ni] = w\n",
    "                p[ni] = n\n",
    "\n",
    "        isMST[n] = True\n",
    "        cost += d[n]\n",
    "    \n",
    "    return cost"
   ]
  },
  {
   "cell_type": "code",
   "execution_count": 22,
   "metadata": {},
   "outputs": [
    {
     "data": {
      "text/plain": [
       "16"
      ]
     },
     "execution_count": 22,
     "metadata": {},
     "output_type": "execute_result"
    }
   ],
   "source": [
    "prim(cost)"
   ]
  },
  {
   "cell_type": "markdown",
   "metadata": {},
   "source": []
  }
 ],
 "metadata": {
  "kernelspec": {
   "display_name": "Python 3 (ipykernel)",
   "language": "python",
   "name": "python3"
  },
  "language_info": {
   "codemirror_mode": {
    "name": "ipython",
    "version": 3
   },
   "file_extension": ".py",
   "mimetype": "text/x-python",
   "name": "python",
   "nbconvert_exporter": "python",
   "pygments_lexer": "ipython3",
   "version": "3.9.6"
  }
 },
 "nbformat": 4,
 "nbformat_minor": 4
}
