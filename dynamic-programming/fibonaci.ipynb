{
 "cells": [
  {
   "cell_type": "code",
   "execution_count": 76,
   "metadata": {},
   "outputs": [],
   "source": [
    "def fibonacci_r(n):\n",
    "    if n in {0, 1}:\n",
    "        return n\n",
    "    return fibonacci_r(n-1) + fibonacci_r(n-2)"
   ]
  },
  {
   "cell_type": "code",
   "execution_count": 72,
   "metadata": {},
   "outputs": [],
   "source": [
    "def fibonacci_memo(n):\n",
    "    res = [0]*(n+1)\n",
    "    i = 0\n",
    "    while i <= n:\n",
    "        if i in {0, 1}:\n",
    "            res[i] = i\n",
    "        else:\n",
    "            res[i] = res[i-1] + res[i-2]\n",
    "        i+=1\n",
    "    return res[n]\n",
    "        "
   ]
  },
  {
   "cell_type": "code",
   "execution_count": 92,
   "metadata": {},
   "outputs": [],
   "source": [
    "def fibonacci_opt(n):\n",
    "    if n in {0, 1}:\n",
    "        return n\n",
    "    fn = None\n",
    "    fn_1 = 1\n",
    "    fn_2 = 0\n",
    "    i = 2\n",
    "    while i <= n:\n",
    "        fn = fn_1 + fn_2\n",
    "        fn_2 = fn_1\n",
    "        fn_1 = fn\n",
    "        i += 1\n",
    "    return fn\n"
   ]
  },
  {
   "cell_type": "code",
   "execution_count": 94,
   "metadata": {},
   "outputs": [],
   "source": [
    "# test \n",
    "# 0 1 1 2 3 5 8\n",
    "input = [0,1,2,5]\n",
    "expected_result = [0, 1, 1, 5]"
   ]
  },
  {
   "cell_type": "code",
   "execution_count": 95,
   "metadata": {},
   "outputs": [],
   "source": [
    "def test(input, output, f):\n",
    "    result = [f(e) for e in input]\n",
    "    print(f'result: {result}, expected: {output}')\n"
   ]
  },
  {
   "cell_type": "code",
   "execution_count": 98,
   "metadata": {},
   "outputs": [
    {
     "name": "stdout",
     "output_type": "stream",
     "text": [
      "result: [0, 1, 1, 5], expected: [0, 1, 1, 5]\n"
     ]
    }
   ],
   "source": [
    "test(input, expected_result, fibonacci_r)"
   ]
  },
  {
   "cell_type": "code",
   "execution_count": 97,
   "metadata": {},
   "outputs": [
    {
     "name": "stdout",
     "output_type": "stream",
     "text": [
      "result: [0, 1, 1, 5], expected: [0, 1, 1, 5]\n"
     ]
    }
   ],
   "source": [
    "test(input, expected_result, fibonacci_memo)"
   ]
  },
  {
   "cell_type": "code",
   "execution_count": 99,
   "metadata": {},
   "outputs": [
    {
     "name": "stdout",
     "output_type": "stream",
     "text": [
      "result: [0, 1, 1, 5], expected: [0, 1, 1, 5]\n"
     ]
    }
   ],
   "source": [
    "test(input, expected_result, fibonacci_opt)"
   ]
  }
 ],
 "metadata": {
  "kernelspec": {
   "display_name": "mxx",
   "language": "python",
   "name": "python3"
  },
  "language_info": {
   "codemirror_mode": {
    "name": "ipython",
    "version": 3
   },
   "file_extension": ".py",
   "mimetype": "text/x-python",
   "name": "python",
   "nbconvert_exporter": "python",
   "pygments_lexer": "ipython3",
   "version": "3.7.10"
  },
  "orig_nbformat": 4
 },
 "nbformat": 4,
 "nbformat_minor": 2
}
