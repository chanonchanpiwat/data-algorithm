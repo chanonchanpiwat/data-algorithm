{
 "cells": [
  {
   "cell_type": "code",
   "execution_count": 43,
   "metadata": {},
   "outputs": [],
   "source": [
    "from time import time\n",
    "import random"
   ]
  },
  {
   "cell_type": "code",
   "execution_count": 44,
   "metadata": {},
   "outputs": [],
   "source": [
    "values = [random.randint(5,250) for i in range(70)]\n",
    "weights = [random.randint(5,250) for i in range(70)]\n",
    "max_weight = 295"
   ]
  },
  {
   "cell_type": "code",
   "execution_count": 45,
   "metadata": {},
   "outputs": [],
   "source": [
    "def knapSack(values, weights, max_weight, current_index = None):\n",
    "    if current_index is None:\n",
    "        current_index = len(values) -1\n",
    "\n",
    "    if current_index == 0 or max_weight == 0:\n",
    "        return 0\n",
    "    \n",
    "    current_weight = weights[current_index]\n",
    "    current_value = values[current_index]\n",
    "    \n",
    "    if current_weight > max_weight:\n",
    "        return knapSack(values, weights,max_weight, current_index-1)\n",
    "    \n",
    "    return max(knapSack(values, weights, max_weight, current_index-1),current_value + knapSack(values, weights, max_weight - current_weight current_index-1))"
   ]
  },
  {
   "cell_type": "code",
   "execution_count": 46,
   "metadata": {},
   "outputs": [],
   "source": [
    "def knapSack_ref(W, wt, val, n):\n",
    "     \n",
    "    # Making the dp array\n",
    "    dp = [0 for i in range(W+1)]\n",
    " \n",
    "    # Taking first i elements\n",
    "    for i in range(1, n+1):\n",
    "       \n",
    "        # Starting from back,\n",
    "        # so that we also have data o\n",
    "        # previous computation when taking i-1 items\n",
    "        for w in range(W, 0, -1):\n",
    "            if wt[i-1] <= w:\n",
    "                 \n",
    "                # Finding the maximum value\n",
    "                dp[w] = max(dp[w], dp[w-wt[i-1]]+val[i-1])\n",
    "     \n",
    "    # Returning the maximum value of knapsack\n",
    "    return dp[W]"
   ]
  },
  {
   "cell_type": "code",
   "execution_count": 47,
   "metadata": {},
   "outputs": [],
   "source": [
    "def knapSack_dynamic(values, weights, max_weight, i = None, memo = {}):\n",
    "    if i is None:\n",
    "        i = len(values)-1\n",
    "\n",
    "    key = (i, max_weight)\n",
    "    if i == 0 or max_weight == 0:\n",
    "        return 0\n",
    "    \n",
    "    if key in memo:\n",
    "        return memo[key]\n",
    "    \n",
    "    weight = weights[i]\n",
    "    value = values[i]\n",
    "    if weight > max_weight:\n",
    "        memo[key] = knapSack_dynamic(values, weights,  max_weight, i-1 ,memo)\n",
    "        return memo[key]\n",
    "    \n",
    "    memo[key] = max(value + \n",
    "                    knapSack_dynamic(values, weights, max_weight - weight, i-1, memo),\n",
    "                    knapSack_dynamic(values, weights, max_weight, i-1, memo))\n",
    "    return memo[key] "
   ]
  },
  {
   "cell_type": "code",
   "execution_count": 48,
   "metadata": {},
   "outputs": [],
   "source": [
    "def knapSack_memo(values, weights, max_weight, idx = len(values)):\n",
    "    memo = [[None for i in range(idx)] for j in range(max_weight)]\n",
    "    for i in range(idx):\n",
    "        for j in range(max_weight):\n",
    "            if i == 0 or j == 0:\n",
    "                memo[j][i] = 0\n",
    "            elif weights[i] > j:\n",
    "                memo[j][i] = memo[j][i-1]\n",
    "            else:\n",
    "                memo[j][i] = max(memo[j][i-1], values[i]+memo[j-weights[i]][i])\n",
    "    return memo[max_weight-1][idx-1]"
   ]
  },
  {
   "cell_type": "code",
   "execution_count": 49,
   "metadata": {},
   "outputs": [
    {
     "name": "stdout",
     "output_type": "stream",
     "text": [
      "result: 1536 time used:0.004179954528808594\n"
     ]
    }
   ],
   "source": [
    "pre = time()\n",
    "result = knapSack_ref(max_weight, weights, values, len(values))\n",
    "post = time()\n",
    "print(f'result: {result} time used:{post - pre}')"
   ]
  },
  {
   "cell_type": "code",
   "execution_count": 50,
   "metadata": {},
   "outputs": [
    {
     "name": "stdout",
     "output_type": "stream",
     "text": [
      "result: 1536 time used:0.008248090744018555\n"
     ]
    }
   ],
   "source": [
    "pre = time()\n",
    "result = knapSack_dynamic(values, weights, max_weight)\n",
    "post = time()\n",
    "print(f'result: {result} time used:{post - pre}')"
   ]
  },
  {
   "cell_type": "code",
   "execution_count": 51,
   "metadata": {},
   "outputs": [
    {
     "name": "stdout",
     "output_type": "stream",
     "text": [
      "result: 1536 time used:2.091217041015625\n"
     ]
    }
   ],
   "source": [
    "pre = time()\n",
    "knapSack(values, weights, max_weight)\n",
    "post = time()\n",
    "print(f'result: {result} time used:{post - pre}')"
   ]
  },
  {
   "cell_type": "code",
   "execution_count": 52,
   "metadata": {},
   "outputs": [
    {
     "name": "stdout",
     "output_type": "stream",
     "text": [
      "result: 1536 time used:0.006586790084838867\n"
     ]
    }
   ],
   "source": [
    "pre = time()\n",
    "knapSack_memo(values, weights, max_weight)\n",
    "post = time()\n",
    "print(f'result: {result} time used:{post - pre}')"
   ]
  }
 ],
 "metadata": {
  "kernelspec": {
   "display_name": "mxx",
   "language": "python",
   "name": "python3"
  },
  "language_info": {
   "codemirror_mode": {
    "name": "ipython",
    "version": 3
   },
   "file_extension": ".py",
   "mimetype": "text/x-python",
   "name": "python",
   "nbconvert_exporter": "python",
   "pygments_lexer": "ipython3",
   "version": "3.7.10"
  },
  "orig_nbformat": 4
 },
 "nbformat": 4,
 "nbformat_minor": 2
}
