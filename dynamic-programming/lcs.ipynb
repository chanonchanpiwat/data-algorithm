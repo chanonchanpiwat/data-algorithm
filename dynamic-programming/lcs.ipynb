{
 "cells": [
  {
   "cell_type": "code",
   "execution_count": 54,
   "metadata": {},
   "outputs": [],
   "source": [
    "import numpy as np"
   ]
  },
  {
   "cell_type": "code",
   "execution_count": 55,
   "metadata": {},
   "outputs": [],
   "source": [
    "def lcq_r(a1, a2, idx1 = 0, idx2 = 0):\n",
    "    if idx1 == len(a1) or idx2 == len(a2):\n",
    "        return 0\n",
    "    if a1[idx1] == a2[idx2] :\n",
    "        return 1 + lcq_r(a1, a2, idx1+1, idx2+1)\n",
    "    else:\n",
    "        return max(lcq_r(a1, a2, idx1+1,idx2 ),lcq_r(a1, a2, idx1,idx2+1 ))"
   ]
  },
  {
   "cell_type": "code",
   "execution_count": 133,
   "metadata": {},
   "outputs": [],
   "source": [
    "def lcq_memo(l1, l2):\n",
    "    n, m = len(l1), len(l2)\n",
    "    Memo = [[None for i in range(n)] for j in range(m)]\n",
    "    for i in range(n):\n",
    "        for j in range(m):\n",
    "            if (i == 0 or j == 0):\n",
    "                Memo[j][i] = 0\n",
    "            elif l1[i] == l2[j]:\n",
    "                Memo[j][i] = 1 + Memo[j-1][i-1]\n",
    "            else:\n",
    "                Memo[j][i] = max(Memo[j-1][i], Memo[j][i-1])\n",
    "    return Memo[m-1][n-1]\n"
   ]
  },
  {
   "cell_type": "code",
   "execution_count": null,
   "metadata": {},
   "outputs": [],
   "source": []
  }
 ],
 "metadata": {
  "kernelspec": {
   "display_name": "mxx",
   "language": "python",
   "name": "python3"
  },
  "language_info": {
   "codemirror_mode": {
    "name": "ipython",
    "version": 3
   },
   "file_extension": ".py",
   "mimetype": "text/x-python",
   "name": "python",
   "nbconvert_exporter": "python",
   "pygments_lexer": "ipython3",
   "version": "3.7.10"
  },
  "orig_nbformat": 4
 },
 "nbformat": 4,
 "nbformat_minor": 2
}
